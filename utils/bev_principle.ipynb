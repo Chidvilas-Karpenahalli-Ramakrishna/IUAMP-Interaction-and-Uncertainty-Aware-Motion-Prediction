{
 "cells": [
  {
   "cell_type": "code",
   "execution_count": 1,
   "metadata": {},
   "outputs": [],
   "source": [
    "# Import necessary libraries:\n",
    "# ------------------------------\n",
    "\n",
    "import matplotlib\n",
    "import matplotlib.pyplot as plt\n",
    "import numpy as np"
   ]
  },
  {
   "cell_type": "markdown",
   "metadata": {},
   "source": [
    "# Overview:\n",
    "\n",
    "The below code is to demonstrate how anchor points can be used to create a bounding box in bird's eye view (BEV). By repeating the same procedure we can create a BEV image for an entire scene. This is the same code that is used to generate BEV images in the project."
   ]
  },
  {
   "cell_type": "code",
   "execution_count": 2,
   "metadata": {},
   "outputs": [],
   "source": [
    "# User-definitions:\n",
    "# -------------------\n",
    "x = 2\n",
    "y = 2\n",
    "height=1.0\n",
    "width=3.0\n",
    "angle = 30\n",
    "\n",
    "# anchor point 1:\n",
    "# ----------------\n",
    "x_anchor = x - (((width/2)*np.cos(angle*(np.pi/180)))-((height/2)*np.sin(angle*(np.pi/180))))\n",
    "y_anchor = y - (((width/2)*np.sin(angle*(np.pi/180)))+((height/2)*np.cos(angle*(np.pi/180))))\n",
    "\n",
    "# anchor point 2:\n",
    "# ----------------\n",
    "x_anchor_2 = x + (((width/2)*np.cos(angle*(np.pi/180)))+((height/2)*np.sin(angle*(np.pi/180))))\n",
    "y_anchor_2 = y + (((width/2)*np.sin(angle*(np.pi/180)))-((height/2)*np.cos(angle*(np.pi/180))))\n",
    "\n",
    "# anchor point 3:\n",
    "# -----------------\n",
    "x_anchor_3 = x + (((width/2)*np.cos(angle*(np.pi/180)))-((height/2)*np.sin(angle*(np.pi/180))))\n",
    "y_anchor_3 = y + (((width/2)*np.sin(angle*(np.pi/180)))+((height/2)*np.cos(angle*(np.pi/180))))\n",
    "\n",
    "# anchor point 4:\n",
    "# ----------------\n",
    "x_anchor_4 = x - (((width/2)*np.cos(angle*(np.pi/180)))+((height/2)*np.sin(angle*(np.pi/180))))\n",
    "y_anchor_4 = y - (((width/2)*np.sin(angle*(np.pi/180)))-((height/2)*np.cos(angle*(np.pi/180))))"
   ]
  },
  {
   "cell_type": "code",
   "execution_count": 3,
   "metadata": {},
   "outputs": [
    {
     "data": {
      "image/png": "[encoded data removed]",
      "text/plain": [
       "<Figure size 432x288 with 1 Axes>"
      ]
     },
     "metadata": {
      "needs_background": "light"
     },
     "output_type": "display_data"
    }
   ],
   "source": [
    "# Plotting the bounding box:\n",
    "# -----------------------------\n",
    "\n",
    "fig, ax = plt.subplots()\n",
    "ax.scatter(x, y)\n",
    "ax.scatter(x_anchor,y_anchor, color='black')\n",
    "ax.scatter(x_anchor_2, y_anchor_2)\n",
    "ax.scatter(x_anchor_3, y_anchor_3)\n",
    "ax.scatter(x_anchor_4, y_anchor_4)\n",
    "ax.add_patch(matplotlib.patches.Rectangle(xy=(x_anchor, y_anchor),\n",
    "                  width=width,\n",
    "                  height=height,\n",
    "                  angle=angle,\n",
    "                  fill=None))\n",
    "plt.xlim([0, 5]);\n",
    "plt.ylim([0, 5]);"
   ]
  },
  {
   "cell_type": "markdown",
   "metadata": {},
   "source": [
    "## Note: \n",
    "_Play around with the user definitions to see how the code works_"
   ]
  },
  {
   "cell_type": "code",
   "execution_count": null,
   "metadata": {},
   "outputs": [],
   "source": []
  }
 ],
 "metadata": {
  "kernelspec": {
   "display_name": "Python 3",
   "language": "python",
   "name": "python3"
  },
  "language_info": {
   "codemirror_mode": {
    "name": "ipython",
    "version": 3
   },
   "file_extension": ".py",
   "mimetype": "text/x-python",
   "name": "python",
   "nbconvert_exporter": "python",
   "pygments_lexer": "ipython3",
   "version": "3.8.8"
  }
 },
 "nbformat": 4,
 "nbformat_minor": 4
}